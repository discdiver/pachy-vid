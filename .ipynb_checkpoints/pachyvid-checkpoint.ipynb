{
 "cells": [
  {
   "cell_type": "code",
   "execution_count": 1,
   "metadata": {},
   "outputs": [],
   "source": [
    "import pandas as pd\n",
    "import numpy as np\n",
    "import cv2\n",
    "import argparse\n",
    "import os"
   ]
  },
  {
   "cell_type": "code",
   "execution_count": null,
   "metadata": {},
   "outputs": [],
   "source": [
    "# frames.py\n",
    "# code for video to image frames pachyderm example\n",
    "\n",
    "import os\n",
    "import cv2\n",
    "import numpy as np\n",
    "\n",
    "# get input_dir and output_dir as arguments\n",
    "top = os.getcwd()\n",
    "\n",
    "# command line arguments\n",
    "parser = argparse.ArgumentParser(description='Train a model for iris classification.')\n",
    "parser.add_argument('indir', type=str, help='Input directory containing the videos')\n",
    "parser.add_argument('outdir', type=str, help='Output directory for image frames')\n",
    "parser.add_argument('max_images', type=int, help='Number of frames to output per video')\n",
    "args = parser.parse_args()\n",
    "\n",
    "\n",
    "def make_images(video, input_dir=\"/pfs/videos\", output_dir=\"/pfs/images_pipeline\" , max_images=1000):\n",
    "    '''\n",
    "    Outputs .jpg images from a video file\n",
    "\n",
    "    Args:\n",
    "        video (str):                               File name of video\n",
    "        input_dir=\"/pfs/videos\" (str):             Input directory\n",
    "        output_dir=\"/pfs/images_pipeline\" (str):   Output directory\n",
    "        max_images=1000 (int):                     Max number images to output per video\n",
    "    Returns:\n",
    "        none\n",
    "    '''\n",
    "\n",
    "    file_name = os.path.basename(video)\n",
    "\n",
    "    vidcap = cv2.VideoCapture(video)\n",
    "    vid_length = int(vidcap.get(cv2.CAP_PROP_FRAME_COUNT))\n",
    "\n",
    "    count = 0                                    # counter to stay under max images\n",
    "\n",
    "    os.mkdir(\"/{}/{}\".format(output_dir, file_no_ext))  # cv2 requires directory to exist\n",
    "\n",
    "    while count < max_images and count < vid_length:\n",
    "        try:\n",
    "            success, image = vidcap.read()\n",
    "            cv2.imwrite(\n",
    "                os.path.join(\n",
    "                    \"/{outdir}/{filename}\".format(outdir=outdir, filname=file_no_ext),\n",
    "                    file_no_ext + \"frame{:d}.jpg\".format(count)),\n",
    "                    image)\n",
    "        except Exception as e:\n",
    "            print(\"Oops, there was an exception: {}\".format(e))\n",
    "\n",
    "        count += 1\n",
    "\n",
    "# ok_file_type = {'mp4', '3gp', 'flv', 'mkv'}\n",
    "\n",
    "# walk /pfs/videos and call make_images on every file\n",
    "for dirpath, dirs, files in os.walk(indir):\n",
    "    for file in files:\n",
    "        # if file[-3:] in ok_file_type:\n",
    "        make_images(os.path.join(dirpath, file), indir, outdir, max_images)\n"
   ]
  }
 ],
 "metadata": {
  "kernelspec": {
   "display_name": "Python 3",
   "language": "python",
   "name": "python3"
  },
  "language_info": {
   "codemirror_mode": {
    "name": "ipython",
    "version": 3
   },
   "file_extension": ".py",
   "mimetype": "text/x-python",
   "name": "python",
   "nbconvert_exporter": "python",
   "pygments_lexer": "ipython3",
   "version": "3.6.6"
  }
 },
 "nbformat": 4,
 "nbformat_minor": 2
}
